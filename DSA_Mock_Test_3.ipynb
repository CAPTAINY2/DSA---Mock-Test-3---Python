{
  "nbformat": 4,
  "nbformat_minor": 0,
  "metadata": {
    "colab": {
      "provenance": [],
      "authorship_tag": "ABX9TyOmvupqSeHK6NNMu+zQXlwP",
      "include_colab_link": true
    },
    "kernelspec": {
      "name": "python3",
      "display_name": "Python 3"
    },
    "language_info": {
      "name": "python"
    }
  },
  "cells": [
    {
      "cell_type": "markdown",
      "metadata": {
        "id": "view-in-github",
        "colab_type": "text"
      },
      "source": [
        "<a href=\"https://colab.research.google.com/github/CAPTAINY2/DSA---Mock-Test-3---Python/blob/main/DSA_Mock_Test_3.ipynb\" target=\"_parent\"><img src=\"https://colab.research.google.com/assets/colab-badge.svg\" alt=\"Open In Colab\"/></a>"
      ]
    },
    {
      "cell_type": "markdown",
      "source": [
        "### QUESTION-1"
      ],
      "metadata": {
        "id": "MpYlp-0ewrpI"
      }
    },
    {
      "cell_type": "code",
      "execution_count": 15,
      "metadata": {
        "colab": {
          "base_uri": "https://localhost:8080/"
        },
        "id": "nl5qBrspsxZ0",
        "outputId": "8e79a6f5-67e1-4408-866c-2225a9bd914d"
      },
      "outputs": [
        {
          "output_type": "stream",
          "name": "stdout",
          "text": [
            "C\n",
            "False\n",
            "B\n",
            "A\n",
            "True\n",
            "None\n"
          ]
        }
      ],
      "source": [
        "class Stack:\n",
        "    def __init__(self):\n",
        "        self.stack = []\n",
        "\n",
        "    def push(self, item):\n",
        "        self.stack.append(item)\n",
        "\n",
        "    def pop(self):\n",
        "        if not self.isEmpty():\n",
        "            return self.stack.pop()\n",
        "        else:\n",
        "            return None\n",
        "\n",
        "    def isEmpty(self):\n",
        "        return len(self.stack) == 0\n",
        "stack = Stack()\n",
        "\n",
        "stack.push(\"A\")\n",
        "stack.push(\"B\")\n",
        "stack.push(\"C\")\n",
        "\n",
        "print(stack.pop())\n",
        "\n",
        "print(stack.isEmpty())\n",
        "\n",
        "print(stack.pop())\n",
        "print(stack.pop())\n",
        "\n",
        "print(stack.isEmpty())\n",
        "\n",
        "print(stack.pop())\n"
      ]
    },
    {
      "cell_type": "markdown",
      "source": [
        "### QUESTION-2"
      ],
      "metadata": {
        "id": "bSZgd8iHw0Kg"
      }
    },
    {
      "cell_type": "code",
      "source": [
        "class Queue:\n",
        "    def __init__(self):\n",
        "        self.queue = []\n",
        "\n",
        "    def enqueue(self, item):\n",
        "        self.queue.append(item)\n",
        "\n",
        "    def dequeue(self):\n",
        "        if not self.isEmpty():\n",
        "            return self.queue.pop(0)\n",
        "        else:\n",
        "            return None\n",
        "\n",
        "    def isEmpty(self):\n",
        "        return len(self.queue) == 0\n",
        "queue = Queue()\n",
        "\n",
        "queue.enqueue(\"A\")\n",
        "queue.enqueue(\"B\")\n",
        "queue.enqueue(\"C\")\n",
        "\n",
        "print(queue.dequeue())\n",
        "\n",
        "print(queue.isEmpty())\n",
        "\n",
        "print(queue.dequeue())\n",
        "print(queue.dequeue())\n",
        "\n",
        "print(queue.isEmpty())\n",
        "\n",
        "print(queue.dequeue())\n"
      ],
      "metadata": {
        "colab": {
          "base_uri": "https://localhost:8080/"
        },
        "id": "FEsbtOWHtDyB",
        "outputId": "a40d3eb6-d43c-4b79-b53b-ae5a036539fd"
      },
      "execution_count": 14,
      "outputs": [
        {
          "output_type": "stream",
          "name": "stdout",
          "text": [
            "A\n",
            "False\n",
            "B\n",
            "C\n",
            "True\n",
            "None\n"
          ]
        }
      ]
    },
    {
      "cell_type": "code",
      "source": [],
      "metadata": {
        "id": "-By61qewvZW_"
      },
      "execution_count": null,
      "outputs": []
    }
  ]
}